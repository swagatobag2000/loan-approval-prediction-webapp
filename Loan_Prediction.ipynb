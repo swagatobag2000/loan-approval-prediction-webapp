{
 "cells": [
  {
   "cell_type": "markdown",
   "metadata": {
    "id": "nsrVSYftukSG"
   },
   "source": [
    ">> > <span style='background :yellow'> To Predict whether the Loan is approved or not </span><hr>"
   ]
  },
  {
   "cell_type": "markdown",
   "metadata": {
    "id": "xJY2LdKN3Jak"
   },
   "source": [
    "### <span style='background :yellow' >1. Problem Definition :</span> \n",
    "- To build a Machine Learning Model whether the Loan is approved or not"
   ]
  },
  {
   "cell_type": "code",
   "execution_count": 1,
   "metadata": {
    "colab": {
     "base_uri": "https://localhost:8080/"
    },
    "id": "rvLPuCU_3Gs1",
    "outputId": "2fc4d210-b71b-4fdb-9db3-16413f2b6d2a"
   },
   "outputs": [],
   "source": [
    "# importing important libraries\n",
    "import pickle\n",
    "import warnings\n",
    "import numpy as np\n",
    "import pandas as pd\n",
    "import seaborn as sns\n",
    "from scipy import stats\n",
    "# from google.colab import drive\n",
    "import matplotlib.pyplot as plt\n",
    "from sklearn.preprocessing import LabelEncoder\n",
    "from sklearn.model_selection import train_test_split\n",
    "\n",
    "# Modeling & Accuracy Metrics\n",
    "from sklearn.tree import DecisionTreeClassifier\n",
    "from sklearn.model_selection import GridSearchCV\n",
    "from sklearn.linear_model import LinearRegression\n",
    "from sklearn.ensemble import RandomForestClassifier\n",
    "from sklearn.linear_model import LogisticRegression\n",
    "from sklearn.metrics import classification_report, confusion_matrix\n",
    "from mlxtend.feature_selection import SequentialFeatureSelector as SFS"
   ]
  },
  {
   "cell_type": "markdown",
   "metadata": {
    "id": "7XInObjX3Vl9"
   },
   "source": [
    "### <span style='background :yellow' >2. Data Extraction/Collection :</span> \n",
    " - Here we read dataset from the .csv file and store it to \"dataset\" dataframe and start out exploration"
   ]
  },
  {
   "cell_type": "code",
   "execution_count": 2,
   "metadata": {
    "colab": {
     "base_uri": "https://localhost:8080/",
     "height": 266
    },
    "id": "jGa_imc-3XwQ",
    "outputId": "fa0c45c0-493b-4333-fb9d-c94d30140de7"
   },
   "outputs": [
    {
     "data": {
      "text/html": [
       "<div>\n",
       "<style scoped>\n",
       "    .dataframe tbody tr th:only-of-type {\n",
       "        vertical-align: middle;\n",
       "    }\n",
       "\n",
       "    .dataframe tbody tr th {\n",
       "        vertical-align: top;\n",
       "    }\n",
       "\n",
       "    .dataframe thead th {\n",
       "        text-align: right;\n",
       "    }\n",
       "</style>\n",
       "<table border=\"1\" class=\"dataframe\">\n",
       "  <thead>\n",
       "    <tr style=\"text-align: right;\">\n",
       "      <th></th>\n",
       "      <th>Loan_ID</th>\n",
       "      <th>Gender</th>\n",
       "      <th>Married</th>\n",
       "      <th>Dependents</th>\n",
       "      <th>Education</th>\n",
       "      <th>Self_Employed</th>\n",
       "      <th>ApplicantIncome</th>\n",
       "      <th>CoapplicantIncome</th>\n",
       "      <th>LoanAmount</th>\n",
       "      <th>Loan_Amount_Term</th>\n",
       "      <th>Credit_History</th>\n",
       "      <th>Property_Area</th>\n",
       "      <th>Loan_Status</th>\n",
       "    </tr>\n",
       "  </thead>\n",
       "  <tbody>\n",
       "    <tr>\n",
       "      <th>0</th>\n",
       "      <td>LP001002</td>\n",
       "      <td>Male</td>\n",
       "      <td>No</td>\n",
       "      <td>0</td>\n",
       "      <td>Graduate</td>\n",
       "      <td>No</td>\n",
       "      <td>5849</td>\n",
       "      <td>0.0</td>\n",
       "      <td>NaN</td>\n",
       "      <td>360.0</td>\n",
       "      <td>1.0</td>\n",
       "      <td>Urban</td>\n",
       "      <td>Y</td>\n",
       "    </tr>\n",
       "    <tr>\n",
       "      <th>1</th>\n",
       "      <td>LP001003</td>\n",
       "      <td>Male</td>\n",
       "      <td>Yes</td>\n",
       "      <td>1</td>\n",
       "      <td>Graduate</td>\n",
       "      <td>No</td>\n",
       "      <td>4583</td>\n",
       "      <td>1508.0</td>\n",
       "      <td>128.0</td>\n",
       "      <td>360.0</td>\n",
       "      <td>1.0</td>\n",
       "      <td>Rural</td>\n",
       "      <td>N</td>\n",
       "    </tr>\n",
       "    <tr>\n",
       "      <th>2</th>\n",
       "      <td>LP001005</td>\n",
       "      <td>Male</td>\n",
       "      <td>Yes</td>\n",
       "      <td>0</td>\n",
       "      <td>Graduate</td>\n",
       "      <td>Yes</td>\n",
       "      <td>3000</td>\n",
       "      <td>0.0</td>\n",
       "      <td>66.0</td>\n",
       "      <td>360.0</td>\n",
       "      <td>1.0</td>\n",
       "      <td>Urban</td>\n",
       "      <td>Y</td>\n",
       "    </tr>\n",
       "    <tr>\n",
       "      <th>3</th>\n",
       "      <td>LP001006</td>\n",
       "      <td>Male</td>\n",
       "      <td>Yes</td>\n",
       "      <td>0</td>\n",
       "      <td>Not Graduate</td>\n",
       "      <td>No</td>\n",
       "      <td>2583</td>\n",
       "      <td>2358.0</td>\n",
       "      <td>120.0</td>\n",
       "      <td>360.0</td>\n",
       "      <td>1.0</td>\n",
       "      <td>Urban</td>\n",
       "      <td>Y</td>\n",
       "    </tr>\n",
       "    <tr>\n",
       "      <th>4</th>\n",
       "      <td>LP001008</td>\n",
       "      <td>Male</td>\n",
       "      <td>No</td>\n",
       "      <td>0</td>\n",
       "      <td>Graduate</td>\n",
       "      <td>No</td>\n",
       "      <td>6000</td>\n",
       "      <td>0.0</td>\n",
       "      <td>141.0</td>\n",
       "      <td>360.0</td>\n",
       "      <td>1.0</td>\n",
       "      <td>Urban</td>\n",
       "      <td>Y</td>\n",
       "    </tr>\n",
       "  </tbody>\n",
       "</table>\n",
       "</div>"
      ],
      "text/plain": [
       "    Loan_ID Gender Married Dependents     Education Self_Employed  \\\n",
       "0  LP001002   Male      No          0      Graduate            No   \n",
       "1  LP001003   Male     Yes          1      Graduate            No   \n",
       "2  LP001005   Male     Yes          0      Graduate           Yes   \n",
       "3  LP001006   Male     Yes          0  Not Graduate            No   \n",
       "4  LP001008   Male      No          0      Graduate            No   \n",
       "\n",
       "   ApplicantIncome  CoapplicantIncome  LoanAmount  Loan_Amount_Term  \\\n",
       "0             5849                0.0         NaN             360.0   \n",
       "1             4583             1508.0       128.0             360.0   \n",
       "2             3000                0.0        66.0             360.0   \n",
       "3             2583             2358.0       120.0             360.0   \n",
       "4             6000                0.0       141.0             360.0   \n",
       "\n",
       "   Credit_History Property_Area Loan_Status  \n",
       "0             1.0         Urban           Y  \n",
       "1             1.0         Rural           N  \n",
       "2             1.0         Urban           Y  \n",
       "3             1.0         Urban           Y  \n",
       "4             1.0         Urban           Y  "
      ]
     },
     "metadata": {},
     "output_type": "display_data"
    },
    {
     "name": "stdout",
     "output_type": "stream",
     "text": [
      "(614, 13)\n"
     ]
    }
   ],
   "source": [
    "# reading the CSV file from local disk\n",
    "# drive.mount('/content/drive/')\n",
    "# dataset = pd.read_csv('/content/drive/MyDrive/Colab Notebooks/Loan Prediction/train.csv')\n",
    "dataset = pd.read_csv('train.csv')\n",
    "display(dataset.head())\n",
    "print(dataset.shape)"
   ]
  },
  {
   "cell_type": "markdown",
   "metadata": {
    "id": "9T7jKJuP6GQa"
   },
   "source": [
    "### <span style='background :yellow' >3. Data Pre-Processing :</span> \n",
    " - **Data preprocessing** is a process of preparing the raw data and making it suitable for a machine learning model. It is the first and crucial step while creating a machine learning model. As we are working with real life datasets, it is not always a case that we come across the clean and formatted data. And while doing any operation with data, it is mandatory to clean it and put in a formatted way. So for this, we use data preprocessing task."
   ]
  },
  {
   "cell_type": "markdown",
   "metadata": {
    "id": "9adhFZam6K0G"
   },
   "source": [
    "**A. Handling Numerical Missing Data**"
   ]
  },
  {
   "cell_type": "code",
   "execution_count": 3,
   "metadata": {
    "colab": {
     "base_uri": "https://localhost:8080/"
    },
    "id": "jzR8IHlf6Opb",
    "outputId": "fafaadb4-206e-4fa2-9d12-fc769318676f"
   },
   "outputs": [
    {
     "data": {
      "text/plain": [
       "True"
      ]
     },
     "execution_count": 3,
     "metadata": {},
     "output_type": "execute_result"
    }
   ],
   "source": [
    "dataset.isnull().values.any()"
   ]
  },
  {
   "cell_type": "markdown",
   "metadata": {
    "id": "rm_GsqTV6YS6"
   },
   "source": [
    "Confirm that the output is \"True,\" which indicates that there is at least one missing value somewhere in the dataset. The next step is to find out where the missing values are."
   ]
  },
  {
   "cell_type": "code",
   "execution_count": 4,
   "metadata": {
    "colab": {
     "base_uri": "https://localhost:8080/"
    },
    "id": "BaDClcao6dwG",
    "outputId": "445403b2-ac03-4630-f66a-85b7dba4b583"
   },
   "outputs": [
    {
     "data": {
      "text/plain": [
       "Loan_ID               0\n",
       "Gender               13\n",
       "Married               3\n",
       "Dependents           15\n",
       "Education             0\n",
       "Self_Employed        32\n",
       "ApplicantIncome       0\n",
       "CoapplicantIncome     0\n",
       "LoanAmount           22\n",
       "Loan_Amount_Term     14\n",
       "Credit_History       50\n",
       "Property_Area         0\n",
       "Loan_Status           0\n",
       "dtype: int64"
      ]
     },
     "execution_count": 4,
     "metadata": {},
     "output_type": "execute_result"
    }
   ],
   "source": [
    "# Here we see the number of pecentage of null values in each column = total number of null values in each column / number of rows * 100\n",
    "dataset.isna().sum()"
   ]
  },
  {
   "cell_type": "code",
   "execution_count": 5,
   "metadata": {
    "colab": {
     "base_uri": "https://localhost:8080/"
    },
    "id": "7sorZV-RRnp9",
    "outputId": "6626f18e-81f4-4ce2-c706-6b44d3101ba9"
   },
   "outputs": [
    {
     "name": "stdout",
     "output_type": "stream",
     "text": [
      "<class 'pandas.core.frame.DataFrame'>\n",
      "RangeIndex: 614 entries, 0 to 613\n",
      "Data columns (total 13 columns):\n",
      " #   Column             Non-Null Count  Dtype  \n",
      "---  ------             --------------  -----  \n",
      " 0   Loan_ID            614 non-null    object \n",
      " 1   Gender             601 non-null    object \n",
      " 2   Married            611 non-null    object \n",
      " 3   Dependents         599 non-null    object \n",
      " 4   Education          614 non-null    object \n",
      " 5   Self_Employed      582 non-null    object \n",
      " 6   ApplicantIncome    614 non-null    int64  \n",
      " 7   CoapplicantIncome  614 non-null    float64\n",
      " 8   LoanAmount         592 non-null    float64\n",
      " 9   Loan_Amount_Term   600 non-null    float64\n",
      " 10  Credit_History     564 non-null    float64\n",
      " 11  Property_Area      614 non-null    object \n",
      " 12  Loan_Status        614 non-null    object \n",
      "dtypes: float64(4), int64(1), object(8)\n",
      "memory usage: 62.5+ KB\n"
     ]
    }
   ],
   "source": [
    "dataset.info()"
   ]
  },
  {
   "cell_type": "code",
   "execution_count": 6,
   "metadata": {
    "id": "21LsnjrBRxom"
   },
   "outputs": [],
   "source": [
    "# handle numerical missing data\n",
    "dataset['LoanAmount'] = dataset['LoanAmount'].fillna(dataset['LoanAmount'].mean())\n",
    "dataset['Loan_Amount_Term'] = dataset['Loan_Amount_Term'].fillna(dataset['Loan_Amount_Term'].mean())\n",
    "dataset['Credit_History'] = dataset['Credit_History'].fillna(dataset['Credit_History'].mean())"
   ]
  },
  {
   "cell_type": "code",
   "execution_count": 7,
   "metadata": {
    "colab": {
     "base_uri": "https://localhost:8080/"
    },
    "id": "ZUjtKIAvR-_h",
    "outputId": "51d4a53a-e786-411a-9b08-ecc384c036eb"
   },
   "outputs": [
    {
     "data": {
      "text/plain": [
       "Loan_ID               0\n",
       "Gender               13\n",
       "Married               3\n",
       "Dependents           15\n",
       "Education             0\n",
       "Self_Employed        32\n",
       "ApplicantIncome       0\n",
       "CoapplicantIncome     0\n",
       "LoanAmount            0\n",
       "Loan_Amount_Term      0\n",
       "Credit_History        0\n",
       "Property_Area         0\n",
       "Loan_Status           0\n",
       "dtype: int64"
      ]
     },
     "execution_count": 7,
     "metadata": {},
     "output_type": "execute_result"
    }
   ],
   "source": [
    "dataset.isnull().sum()"
   ]
  },
  {
   "cell_type": "markdown",
   "metadata": {
    "id": "e-v51ZO8SGej"
   },
   "source": [
    "**B. Handling Categorical Missing Data**"
   ]
  },
  {
   "cell_type": "code",
   "execution_count": 8,
   "metadata": {
    "id": "NdQFbpfTSMDy"
   },
   "outputs": [],
   "source": [
    "dataset['Gender'] = dataset['Gender'].fillna(dataset['Gender'].mode()[0])\n",
    "dataset['Married'] = dataset['Married'].fillna(dataset['Married'].mode()[0])\n",
    "dataset['Dependents'] = dataset['Dependents'].fillna(dataset['Dependents'].mode()[0])\n",
    "dataset['Self_Employed'] = dataset['Self_Employed'].fillna(dataset['Self_Employed'].mode()[0])"
   ]
  },
  {
   "cell_type": "code",
   "execution_count": 9,
   "metadata": {
    "colab": {
     "base_uri": "https://localhost:8080/"
    },
    "id": "4chAU9b5Sado",
    "outputId": "30f2e614-09b5-458a-beba-250ba390e94d"
   },
   "outputs": [
    {
     "data": {
      "text/plain": [
       "Loan_ID              0\n",
       "Gender               0\n",
       "Married              0\n",
       "Dependents           0\n",
       "Education            0\n",
       "Self_Employed        0\n",
       "ApplicantIncome      0\n",
       "CoapplicantIncome    0\n",
       "LoanAmount           0\n",
       "Loan_Amount_Term     0\n",
       "Credit_History       0\n",
       "Property_Area        0\n",
       "Loan_Status          0\n",
       "dtype: int64"
      ]
     },
     "execution_count": 9,
     "metadata": {},
     "output_type": "execute_result"
    }
   ],
   "source": [
    "dataset.isnull().sum()"
   ]
  },
  {
   "cell_type": "markdown",
   "metadata": {
    "id": "P-ku-eAF6so-"
   },
   "source": [
    "**C. Removing Duplicate Column (if any)**"
   ]
  },
  {
   "cell_type": "code",
   "execution_count": 10,
   "metadata": {
    "colab": {
     "base_uri": "https://localhost:8080/"
    },
    "id": "9fYndhdp6n04",
    "outputId": "54b504cd-1a96-458c-89fd-0afce76fc3dd"
   },
   "outputs": [
    {
     "name": "stdout",
     "output_type": "stream",
     "text": [
      "Duplicated Rows : 0\n"
     ]
    }
   ],
   "source": [
    "# For Duplicated Rows\n",
    "print(f\"Duplicated Rows : {dataset.duplicated().sum()}\")"
   ]
  },
  {
   "cell_type": "markdown",
   "metadata": {
    "id": "6dg2Nn-v9OyK"
   },
   "source": [
    "### <span style='background :yellow' >4. Exploratory Data Analysis :</span> \n",
    " - **Exploratory Data Analysis** is an approach to analyzing data sets to summarize their main characteristics, often with visual methods. A statistical model can be used or not, but primarily EDA is for seeing what the data can tell us beyond the formal modeling or hypothesis testing task. It is also used to filter the data from redundancy"
   ]
  },
  {
   "cell_type": "code",
   "execution_count": 11,
   "metadata": {
    "colab": {
     "base_uri": "https://localhost:8080/",
     "height": 0
    },
    "id": "bmV9mDakTvbz",
    "outputId": "0032618a-7eba-442f-914c-5f386d5d1f93"
   },
   "outputs": [
    {
     "data": {
      "image/png": "[encoded data removed]",
      "text/plain": [
       "<Figure size 1440x864 with 2 Axes>"
      ]
     },
     "metadata": {
      "needs_background": "light"
     },
     "output_type": "display_data"
    }
   ],
   "source": [
    "# categorical data\n",
    "warnings.filterwarnings(\"ignore\")\n",
    "fig = plt.figure(figsize =(20,12)) \n",
    "plt.subplot(2, 2, 1)\n",
    "ax = sns.countplot(dataset['Gender'],hue = dataset['Loan_Status'])\n",
    "for p in ax.patches:\n",
    "    height = p.get_height()\n",
    "    ax.text(x = p.get_x() + (p.get_width()/2), y = height + 3, s = '{:.0f}'.format(height), ha = 'center')\n",
    "\n",
    "plt.subplot(2, 2, 2)\n",
    "ax = sns.countplot(dataset['Married'],hue = dataset['Loan_Status'])\n",
    "for p in ax.patches:\n",
    "    height = p.get_height()\n",
    "    ax.text(x = p.get_x() + (p.get_width()/2), y = height + 3, s = '{:.0f}'.format(height), ha = 'center')\n",
    "plt.show()"
   ]
  },
  {
   "cell_type": "markdown",
   "metadata": {
    "id": "XkhQOVKEXDVP"
   },
   "source": [
    "Hypothesis : More Males have recieved approval for loan and number of married persons is more who got loan approval than unmarried people."
   ]
  },
  {
   "cell_type": "code",
   "execution_count": 12,
   "metadata": {
    "colab": {
     "base_uri": "https://localhost:8080/",
     "height": 0
    },
    "id": "4iAsFezuTdL5",
    "outputId": "05549c34-66ae-4c85-98b9-affdcc741cc2"
   },
   "outputs": [
    {
     "data": {
      "image/png": "[encoded data removed]",
      "text/plain": [
       "<Figure size 1440x864 with 2 Axes>"
      ]
     },
     "metadata": {
      "needs_background": "light"
     },
     "output_type": "display_data"
    }
   ],
   "source": [
    "# categorical data\n",
    "warnings.filterwarnings(\"ignore\")\n",
    "fig = plt.figure(figsize =(20,12)) \n",
    "plt.subplot(2, 2, 1)\n",
    "ax = sns.countplot(dataset['Dependents'],hue = dataset['Loan_Status'])\n",
    "for p in ax.patches:\n",
    "    height = p.get_height()\n",
    "    ax.text(x = p.get_x() + (p.get_width()/2), y = height + 3, s = '{:.0f}'.format(height), ha = 'center')\n",
    "plt.subplot(2, 2, 2)\n",
    "ax = sns.countplot(dataset['Education'],hue = dataset['Loan_Status'])\n",
    "for p in ax.patches:\n",
    "    height = p.get_height()\n",
    "    ax.text(x = p.get_x() + (p.get_width()/2), y = height + 3, s = '{:.0f}'.format(height), ha = 'center')\n",
    "plt.show()"
   ]
  },
  {
   "cell_type": "markdown",
   "metadata": {
    "id": "60SNjO99XcVG"
   },
   "source": [
    "Hypothesis : when no dependent is there, loan approval is more and graduate people have got more loan approval than non-graduate people"
   ]
  },
  {
   "cell_type": "code",
   "execution_count": 13,
   "metadata": {
    "colab": {
     "base_uri": "https://localhost:8080/",
     "height": 0
    },
    "id": "F2lFflT_ThJ3",
    "outputId": "8f06b93e-1363-4a2d-af6b-0c456102c6c2"
   },
   "outputs": [
    {
     "data": {
      "image/png": "[encoded data removed]",
      "text/plain": [
       "<Figure size 1440x864 with 2 Axes>"
      ]
     },
     "metadata": {
      "needs_background": "light"
     },
     "output_type": "display_data"
    }
   ],
   "source": [
    "# categorical data\n",
    "warnings.filterwarnings(\"ignore\")\n",
    "fig = plt.figure(figsize =(20,12)) \n",
    "plt.subplot(2, 2, 1)\n",
    "ax = sns.countplot(dataset['Self_Employed'],hue = dataset['Loan_Status'])\n",
    "for p in ax.patches:\n",
    "    height = p.get_height()\n",
    "    ax.text(x = p.get_x() + (p.get_width()/2), y = height + 3, s = '{:.0f}'.format(height), ha = 'center')\n",
    "\n",
    "plt.subplot(2, 2, 2)\n",
    "ax = sns.countplot(dataset['Property_Area'],hue = dataset['Loan_Status'])\n",
    "for p in ax.patches:\n",
    "    height = p.get_height()\n",
    "    ax.text(x = p.get_x() + (p.get_width()/2), y = height + 3, s = '{:.0f}'.format(height), ha = 'center')\n",
    "plt.show()"
   ]
  },
  {
   "cell_type": "markdown",
   "metadata": {
    "id": "cwiASnj6XxoY"
   },
   "source": [
    "Hypothesis : number of Self-employed people taking loan is less. Semiurban area has more number of loan."
   ]
  },
  {
   "cell_type": "code",
   "execution_count": 14,
   "metadata": {
    "colab": {
     "base_uri": "https://localhost:8080/",
     "height": 0
    },
    "id": "wTs0h4DDTmk6",
    "outputId": "92cfd62b-8a24-48e5-c9be-ca6aec3ddbde"
   },
   "outputs": [
    {
     "data": {
      "image/png": "[encoded data removed]",
      "text/plain": [
       "<Figure size 1440x864 with 2 Axes>"
      ]
     },
     "metadata": {
      "needs_background": "light"
     },
     "output_type": "display_data"
    }
   ],
   "source": [
    "# numerical data\n",
    "fig = plt.figure(figsize =(20,12)) \n",
    "plt.subplot(2, 2, 1)\n",
    "sns.distplot(dataset['ApplicantIncome'])\n",
    "plt.subplot(2, 2, 2)\n",
    "sns.distplot(dataset['CoapplicantIncome'])\n",
    "plt.show()"
   ]
  },
  {
   "cell_type": "code",
   "execution_count": 15,
   "metadata": {
    "colab": {
     "base_uri": "https://localhost:8080/",
     "height": 0
    },
    "id": "xrLZANTEVCI6",
    "outputId": "7bde5fcf-dcf1-4a37-f8b2-97c06d47b7d4"
   },
   "outputs": [
    {
     "data": {
      "image/png": "[encoded data removed]",
      "text/plain": [
       "<Figure size 1440x864 with 2 Axes>"
      ]
     },
     "metadata": {
      "needs_background": "light"
     },
     "output_type": "display_data"
    }
   ],
   "source": [
    "# numerical data\n",
    "fig = plt.figure(figsize =(20,12)) \n",
    "plt.subplot(2, 2, 1)\n",
    "sns.distplot(dataset['LoanAmount'])\n",
    "plt.subplot(2, 2, 2)\n",
    "sns.distplot(dataset['Loan_Amount_Term'])\n",
    "plt.show()"
   ]
  },
  {
   "cell_type": "markdown",
   "metadata": {
    "id": "pB8F0MnoHXi4"
   },
   "source": [
    "### <span style='background :yellow' >5. Feature engineering :</span> \n",
    " - **Feature engineering** is the process of using domain knowledge of the data to create features that make machine learning algorithms work. Feature engineering is fundamental to the application of machine learning and is both difficult and expensive. It is simply using your existing knowledge of the dataset to create new features that can help a machine learning model perform better."
   ]
  },
  {
   "cell_type": "code",
   "execution_count": 16,
   "metadata": {
    "id": "cIGM62OsjmeQ"
   },
   "outputs": [],
   "source": [
    "# Creating 'Total_income' as a new column\n",
    "dataset['Total_income'] = dataset['ApplicantIncome'] + dataset['CoapplicantIncome']"
   ]
  },
  {
   "cell_type": "code",
   "execution_count": 17,
   "metadata": {
    "id": "ZoBItHBV2JXG"
   },
   "outputs": [],
   "source": [
    "# creating instance of labelencoder\n",
    "labelencoder = LabelEncoder()\n",
    "dataset['Gender_encoded'] = labelencoder.fit_transform(dataset['Gender'])\n",
    "dataset['Married_encoded'] = labelencoder.fit_transform(dataset['Married'])\n",
    "dataset['Dependents_encoded'] = labelencoder.fit_transform(dataset['Dependents'])\n",
    "dataset['Education_encoded'] = labelencoder.fit_transform(dataset['Education'])\n",
    "dataset['Self_Employed_encoded'] = labelencoder.fit_transform(dataset['Self_Employed'])\n",
    "dataset['Property_Area_encoded'] = labelencoder.fit_transform(dataset['Property_Area'])\n",
    "dataset['Loan_Status_encoded'] = labelencoder.fit_transform(dataset['Loan_Status'])"
   ]
  },
  {
   "cell_type": "markdown",
   "metadata": {
    "id": "qfSvXydMagL9"
   },
   "source": [
    " - Creating dictionary for mapping the encoding for the test dataset\n",
    " - as the dictionary is created with the groupby method, but for every key we have a list of same element throughout the list as we have the groupby, so creating a main dictionary with one element from the list as the KEY and key of that dictionary as value of this dictionary"
   ]
  },
  {
   "cell_type": "code",
   "execution_count": 18,
   "metadata": {
    "colab": {
     "base_uri": "https://localhost:8080/"
    },
    "id": "d-8ee2uwkMYU",
    "outputId": "5981896d-cf82-4a1a-c145-1493fda81336"
   },
   "outputs": [
    {
     "data": {
      "text/plain": [
       "{'Female': 0, 'Male': 1}"
      ]
     },
     "execution_count": 18,
     "metadata": {},
     "output_type": "execute_result"
    }
   ],
   "source": [
    "# For 'Gender_encoded' Column\n",
    "label_dict_temp, label_dict_gender = {}, {}\n",
    "label_dict_temp = dataset.groupby(['Gender_encoded'])['Gender'].unique().apply(list).to_dict()\n",
    "for i in label_dict_temp.keys():\n",
    "    label_dict_gender[label_dict_temp[i][0]] = i\n",
    "label_dict_gender"
   ]
  },
  {
   "cell_type": "code",
   "execution_count": 19,
   "metadata": {
    "colab": {
     "base_uri": "https://localhost:8080/"
    },
    "id": "pHnOZcpC5JBM",
    "outputId": "43fd1643-5e39-4383-d1e9-92c57c2bc158"
   },
   "outputs": [
    {
     "data": {
      "text/plain": [
       "{'No': 0, 'Yes': 1}"
      ]
     },
     "execution_count": 19,
     "metadata": {},
     "output_type": "execute_result"
    }
   ],
   "source": [
    "# For 'Married_encoded' Column\n",
    "label_dict_temp2, label_dict_married = {}, {}\n",
    "label_dict_temp2 = dataset.groupby(['Married_encoded'])['Married'].unique().apply(list).to_dict()\n",
    "for i in label_dict_temp2.keys():\n",
    "    label_dict_married[label_dict_temp2[i][0]] = i\n",
    "label_dict_married"
   ]
  },
  {
   "cell_type": "code",
   "execution_count": 20,
   "metadata": {
    "colab": {
     "base_uri": "https://localhost:8080/"
    },
    "id": "aLASGdJm5WVj",
    "outputId": "791e8ec6-d973-4c75-eaec-44c8e84a3f27"
   },
   "outputs": [
    {
     "data": {
      "text/plain": [
       "{'0': 0, '1': 1, '2': 2, '3+': 3}"
      ]
     },
     "execution_count": 20,
     "metadata": {},
     "output_type": "execute_result"
    }
   ],
   "source": [
    "# For 'Dependents_encoded' Column\n",
    "label_dict_temp3, label_dict_dependents = {}, {}\n",
    "label_dict_temp3 = dataset.groupby(['Dependents_encoded'])['Dependents'].unique().apply(list).to_dict()\n",
    "for i in label_dict_temp3.keys():\n",
    "    label_dict_dependents[label_dict_temp3[i][0]] = i\n",
    "label_dict_dependents"
   ]
  },
  {
   "cell_type": "code",
   "execution_count": 21,
   "metadata": {
    "colab": {
     "base_uri": "https://localhost:8080/"
    },
    "id": "Emf9aS3m5hSy",
    "outputId": "cce8f630-ba2a-432a-9e93-d2ccd33265f9"
   },
   "outputs": [
    {
     "data": {
      "text/plain": [
       "{'Graduate': 0, 'Not Graduate': 1}"
      ]
     },
     "execution_count": 21,
     "metadata": {},
     "output_type": "execute_result"
    }
   ],
   "source": [
    "# For 'Education_encoded' Column\n",
    "label_dict_temp4, label_dict_education = {}, {}\n",
    "label_dict_temp4 = dataset.groupby(['Education_encoded'])['Education'].unique().apply(list).to_dict()\n",
    "for i in label_dict_temp4.keys():\n",
    "    label_dict_education[label_dict_temp4[i][0]] = i\n",
    "label_dict_education"
   ]
  },
  {
   "cell_type": "code",
   "execution_count": 22,
   "metadata": {
    "colab": {
     "base_uri": "https://localhost:8080/"
    },
    "id": "A8D6HrhR6Jt3",
    "outputId": "f96a5bb9-9999-40e9-98f7-1bdd6d8469ed"
   },
   "outputs": [
    {
     "data": {
      "text/plain": [
       "{'No': 0, 'Yes': 1}"
      ]
     },
     "execution_count": 22,
     "metadata": {},
     "output_type": "execute_result"
    }
   ],
   "source": [
    "# For 'Self_Employed_encoded' Column\n",
    "label_dict_temp5, label_dict_self_employed = {}, {}\n",
    "label_dict_temp5 = dataset.groupby(['Self_Employed_encoded'])['Self_Employed'].unique().apply(list).to_dict()\n",
    "for i in label_dict_temp5.keys():\n",
    "    label_dict_self_employed[label_dict_temp5[i][0]] = i\n",
    "label_dict_self_employed"
   ]
  },
  {
   "cell_type": "code",
   "execution_count": 23,
   "metadata": {
    "colab": {
     "base_uri": "https://localhost:8080/"
    },
    "id": "q9D53Um76dPQ",
    "outputId": "0ee8c644-8000-4646-9ee3-6893c5c340cd"
   },
   "outputs": [
    {
     "data": {
      "text/plain": [
       "{'Rural': 0, 'Semiurban': 1, 'Urban': 2}"
      ]
     },
     "execution_count": 23,
     "metadata": {},
     "output_type": "execute_result"
    }
   ],
   "source": [
    "# For 'Property_Area_encoded' Column\n",
    "label_dict_temp6, label_dict_property_area = {}, {}\n",
    "label_dict_temp6 = dataset.groupby(['Property_Area_encoded'])['Property_Area'].unique().apply(list).to_dict()\n",
    "for i in label_dict_temp6.keys():\n",
    "    label_dict_property_area[label_dict_temp6[i][0]] = i\n",
    "label_dict_property_area"
   ]
  },
  {
   "cell_type": "code",
   "execution_count": 24,
   "metadata": {
    "colab": {
     "base_uri": "https://localhost:8080/"
    },
    "id": "laxQBrAv6pik",
    "outputId": "508c52a8-f00a-4baa-f9d5-3a0e6bc76e1b"
   },
   "outputs": [
    {
     "data": {
      "text/plain": [
       "{'N': 0, 'Y': 1}"
      ]
     },
     "execution_count": 24,
     "metadata": {},
     "output_type": "execute_result"
    }
   ],
   "source": [
    "# For 'Loan_Status_encoded' Column\n",
    "label_dict_temp7, label_dict_loan_status = {}, {}\n",
    "label_dict_temp7 = dataset.groupby(['Loan_Status_encoded'])['Loan_Status'].unique().apply(list).to_dict()\n",
    "for i in label_dict_temp7.keys():\n",
    "    label_dict_loan_status[label_dict_temp7[i][0]] = i\n",
    "label_dict_loan_status"
   ]
  },
  {
   "cell_type": "markdown",
   "metadata": {
    "id": "DkipgFVA7WIJ"
   },
   "source": [
    "**Applying Changes on Test Dataset**"
   ]
  },
  {
   "cell_type": "code",
   "execution_count": 25,
   "metadata": {
    "colab": {
     "base_uri": "https://localhost:8080/",
     "height": 249
    },
    "id": "mGv-0-S77bjU",
    "outputId": "9f1b311c-6761-4bed-a74b-f832acdb9a4c"
   },
   "outputs": [
    {
     "data": {
      "text/html": [
       "<div>\n",
       "<style scoped>\n",
       "    .dataframe tbody tr th:only-of-type {\n",
       "        vertical-align: middle;\n",
       "    }\n",
       "\n",
       "    .dataframe tbody tr th {\n",
       "        vertical-align: top;\n",
       "    }\n",
       "\n",
       "    .dataframe thead th {\n",
       "        text-align: right;\n",
       "    }\n",
       "</style>\n",
       "<table border=\"1\" class=\"dataframe\">\n",
       "  <thead>\n",
       "    <tr style=\"text-align: right;\">\n",
       "      <th></th>\n",
       "      <th>Loan_ID</th>\n",
       "      <th>Gender</th>\n",
       "      <th>Married</th>\n",
       "      <th>Dependents</th>\n",
       "      <th>Education</th>\n",
       "      <th>Self_Employed</th>\n",
       "      <th>ApplicantIncome</th>\n",
       "      <th>CoapplicantIncome</th>\n",
       "      <th>LoanAmount</th>\n",
       "      <th>Loan_Amount_Term</th>\n",
       "      <th>Credit_History</th>\n",
       "      <th>Property_Area</th>\n",
       "    </tr>\n",
       "  </thead>\n",
       "  <tbody>\n",
       "    <tr>\n",
       "      <th>0</th>\n",
       "      <td>LP001015</td>\n",
       "      <td>Male</td>\n",
       "      <td>Yes</td>\n",
       "      <td>0</td>\n",
       "      <td>Graduate</td>\n",
       "      <td>No</td>\n",
       "      <td>5720</td>\n",
       "      <td>0</td>\n",
       "      <td>110.0</td>\n",
       "      <td>360.0</td>\n",
       "      <td>1.0</td>\n",
       "      <td>Urban</td>\n",
       "    </tr>\n",
       "    <tr>\n",
       "      <th>1</th>\n",
       "      <td>LP001022</td>\n",
       "      <td>Male</td>\n",
       "      <td>Yes</td>\n",
       "      <td>1</td>\n",
       "      <td>Graduate</td>\n",
       "      <td>No</td>\n",
       "      <td>3076</td>\n",
       "      <td>1500</td>\n",
       "      <td>126.0</td>\n",
       "      <td>360.0</td>\n",
       "      <td>1.0</td>\n",
       "      <td>Urban</td>\n",
       "    </tr>\n",
       "    <tr>\n",
       "      <th>2</th>\n",
       "      <td>LP001031</td>\n",
       "      <td>Male</td>\n",
       "      <td>Yes</td>\n",
       "      <td>2</td>\n",
       "      <td>Graduate</td>\n",
       "      <td>No</td>\n",
       "      <td>5000</td>\n",
       "      <td>1800</td>\n",
       "      <td>208.0</td>\n",
       "      <td>360.0</td>\n",
       "      <td>1.0</td>\n",
       "      <td>Urban</td>\n",
       "    </tr>\n",
       "    <tr>\n",
       "      <th>3</th>\n",
       "      <td>LP001035</td>\n",
       "      <td>Male</td>\n",
       "      <td>Yes</td>\n",
       "      <td>2</td>\n",
       "      <td>Graduate</td>\n",
       "      <td>No</td>\n",
       "      <td>2340</td>\n",
       "      <td>2546</td>\n",
       "      <td>100.0</td>\n",
       "      <td>360.0</td>\n",
       "      <td>NaN</td>\n",
       "      <td>Urban</td>\n",
       "    </tr>\n",
       "    <tr>\n",
       "      <th>4</th>\n",
       "      <td>LP001051</td>\n",
       "      <td>Male</td>\n",
       "      <td>No</td>\n",
       "      <td>0</td>\n",
       "      <td>Not Graduate</td>\n",
       "      <td>No</td>\n",
       "      <td>3276</td>\n",
       "      <td>0</td>\n",
       "      <td>78.0</td>\n",
       "      <td>360.0</td>\n",
       "      <td>1.0</td>\n",
       "      <td>Urban</td>\n",
       "    </tr>\n",
       "  </tbody>\n",
       "</table>\n",
       "</div>"
      ],
      "text/plain": [
       "    Loan_ID Gender Married Dependents     Education Self_Employed  \\\n",
       "0  LP001015   Male     Yes          0      Graduate            No   \n",
       "1  LP001022   Male     Yes          1      Graduate            No   \n",
       "2  LP001031   Male     Yes          2      Graduate            No   \n",
       "3  LP001035   Male     Yes          2      Graduate            No   \n",
       "4  LP001051   Male      No          0  Not Graduate            No   \n",
       "\n",
       "   ApplicantIncome  CoapplicantIncome  LoanAmount  Loan_Amount_Term  \\\n",
       "0             5720                  0       110.0             360.0   \n",
       "1             3076               1500       126.0             360.0   \n",
       "2             5000               1800       208.0             360.0   \n",
       "3             2340               2546       100.0             360.0   \n",
       "4             3276                  0        78.0             360.0   \n",
       "\n",
       "   Credit_History Property_Area  \n",
       "0             1.0         Urban  \n",
       "1             1.0         Urban  \n",
       "2             1.0         Urban  \n",
       "3             NaN         Urban  \n",
       "4             1.0         Urban  "
      ]
     },
     "metadata": {},
     "output_type": "display_data"
    },
    {
     "name": "stdout",
     "output_type": "stream",
     "text": [
      "(367, 12)\n"
     ]
    }
   ],
   "source": [
    "# test_dataset = pd.read_csv('/content/drive/MyDrive/Colab Notebooks/Loan Prediction/test.csv')\n",
    "test_dataset = pd.read_csv('test.csv')\n",
    "display(test_dataset.head())\n",
    "print(test_dataset.shape)"
   ]
  },
  {
   "cell_type": "code",
   "execution_count": 26,
   "metadata": {
    "id": "qPOV8VzkkOZ3"
   },
   "outputs": [],
   "source": [
    "# filling numerical missing data\n",
    "test_dataset['LoanAmount'] = test_dataset['LoanAmount'].fillna(dataset['LoanAmount'].mean())\n",
    "test_dataset['Loan_Amount_Term'] = test_dataset['Loan_Amount_Term'].fillna(dataset['Loan_Amount_Term'].mean())\n",
    "test_dataset['Credit_History'] = test_dataset['Credit_History'].fillna(dataset['Credit_History'].mean())\n",
    "\n",
    "# filling categorical missing data\n",
    "test_dataset['Gender'] = test_dataset['Gender'].fillna(dataset['Gender'].mode()[0])\n",
    "test_dataset['Married'] = test_dataset['Married'].fillna(dataset['Married'].mode()[0])\n",
    "test_dataset['Dependents'] = test_dataset['Dependents'].fillna(dataset['Dependents'].mode()[0])\n",
    "test_dataset['Self_Employed'] = test_dataset['Self_Employed'].fillna(dataset['Self_Employed'].mode()[0])\n",
    "\n",
    "test_dataset['Total_income'] = test_dataset['ApplicantIncome'] + test_dataset['CoapplicantIncome']"
   ]
  },
  {
   "cell_type": "code",
   "execution_count": 27,
   "metadata": {
    "id": "XuvvOqqp7mQg"
   },
   "outputs": [],
   "source": [
    "# # Adding the dictionary to new columns\n",
    "\n",
    "test_dataset['Gender_encoded'] = test_dataset['Gender'].map(label_dict_gender)\n",
    "test_dataset['Married_encoded'] = test_dataset['Married'].map(label_dict_married)\n",
    "test_dataset['Dependents_encoded'] = test_dataset['Dependents'].map(label_dict_dependents)\n",
    "test_dataset['Education_encoded'] = test_dataset['Education'].map(label_dict_education)\n",
    "test_dataset['Self_Employed_encoded'] = test_dataset['Self_Employed'].map(label_dict_self_employed)\n",
    "test_dataset['Property_Area_encoded'] = test_dataset['Property_Area'].map(label_dict_property_area)"
   ]
  },
  {
   "cell_type": "code",
   "execution_count": 28,
   "metadata": {
    "id": "QEaZ3nUitwHf"
   },
   "outputs": [],
   "source": [
    "# 'Loan_ID' is un-useful column, so deleting it.\n",
    "# As 'Gender', 'Married', \"Dependents\", \"Education\", \"Self_Employed\", 'Property_Area',\"Loan_Status\" columns have been encoded\n",
    "cols = ['Loan_ID','Gender', 'Married', \"Dependents\", \"Education\", \"Self_Employed\", 'Property_Area',\"Loan_Status\"]\n",
    "dataset.drop(columns=cols,inplace=True)\n",
    "cols.pop() # Removing \"Loan_Status\" from cols list\n",
    "test_dataset.drop(columns=cols,inplace=True)"
   ]
  },
  {
   "cell_type": "code",
   "execution_count": 29,
   "metadata": {
    "id": "fjcpjoaQIXHt"
   },
   "outputs": [],
   "source": [
    "# specify input and output attributes\n",
    "x = dataset.drop(columns=['Loan_Status_encoded'], axis=1)\n",
    "y = dataset['Loan_Status_encoded']"
   ]
  },
  {
   "cell_type": "code",
   "execution_count": 30,
   "metadata": {
    "id": "jB9coC3vIY71"
   },
   "outputs": [],
   "source": [
    "x_train, x_test, y_train, y_test = train_test_split(x, y, test_size=0.25, random_state=42)"
   ]
  },
  {
   "cell_type": "markdown",
   "metadata": {
    "id": "3KXQz4Cv6RZp"
   },
   "source": [
    "### <span style='background :yellow' >6. Feature Selection :</span> \n",
    " - **Feature selection** is the process of reducing the number of input variables when developing a predictive model to reduce the computational cost of modeling and, in some cases, to improve the performance of the model.\n",
    " - We are using Sequential Feature Selector to select the features"
   ]
  },
  {
   "cell_type": "code",
   "execution_count": 31,
   "metadata": {
    "colab": {
     "base_uri": "https://localhost:8080/"
    },
    "id": "ojWDNyyiZYnY",
    "outputId": "67b72eb8-7107-4f58-e33e-6820a893ef85"
   },
   "outputs": [
    {
     "name": "stdout",
     "output_type": "stream",
     "text": [
      "0.3220789523067532\n",
      "['CoapplicantIncome', 'LoanAmount', 'Loan_Amount_Term', 'Credit_History', 'Total_income', 'Gender_encoded', 'Married_encoded', 'Dependents_encoded', 'Education_encoded', 'Self_Employed_encoded', 'Property_Area_encoded']\n"
     ]
    }
   ],
   "source": [
    "# Sequential Forward Selection(sfs)\n",
    "feature_score_list = []\n",
    "feature_list = []\n",
    "for i in range(1,13):\n",
    "    sfs = SFS(LinearRegression(), k_features=i, forward=True, floating=False, scoring = 'r2', cv = 0)\n",
    "    sfs.fit(x_train, y_train)\n",
    "    selected_features = list(sfs.k_feature_names_)\n",
    "    feature_list.append(selected_features)\n",
    "    feature_score_list.append(sfs.k_score_)\n",
    "\n",
    "max_score = feature_score_list.index(max(feature_score_list))\n",
    "print(feature_score_list[max_score])\n",
    "print(feature_list[max_score])"
   ]
  },
  {
   "cell_type": "markdown",
   "metadata": {
    "id": "o49JV3Wcy_zR"
   },
   "source": [
    "### <span style='background :yellow' >7. Models :</span> \n",
    " - **Supervised learning** is where you have input variables (x) and an output variable (Y) and you use an\n",
    "algorithm to learn the mapping function from the input to the output.\n",
    "Y = f(X)\n",
    "The goal is to approximate the mapping function so well that when you have new input data (x) that you\n",
    "can predict the output variables (Y) for that data.\n",
    "It is called supervised learning because the process of an algorithm learning from the training dataset can\n",
    "be thought of as a teacher supervising the learning process. We know the correct answers, the algorithm\n",
    "iteratively makes predictions on the validation data and is corrected by the teacher."
   ]
  },
  {
   "cell_type": "markdown",
   "metadata": {
    "id": "ksCC-RIAbIG2"
   },
   "source": [
    "#### **1. Random Forest Regressor**"
   ]
  },
  {
   "cell_type": "code",
   "execution_count": 32,
   "metadata": {},
   "outputs": [
    {
     "name": "stdout",
     "output_type": "stream",
     "text": [
      "Max:  45\n"
     ]
    },
    {
     "data": {
      "image/png": "[encoded data removed]",
      "text/plain": [
       "<Figure size 576x288 with 1 Axes>"
      ]
     },
     "metadata": {
      "needs_background": "light"
     },
     "output_type": "display_data"
    }
   ],
   "source": [
    "results = []\n",
    "n_estimator_options = [10,15,20,25,30,35,40,45,50,55,60,65,70,75,80,85,90,95,100]\n",
    "# None means 1 unless in a joblib.parallel_backend context. -1 means using all processors\n",
    "for trees in n_estimator_options:\n",
    "    model = RandomForestClassifier(trees, oob_score=True, n_jobs=-1, random_state=101)\n",
    "    model.fit(x_train[feature_list[max_score]], y_train)\n",
    "    Y_pred_val = model.predict(x_test[feature_list[max_score]])\n",
    "    accuracy = np.mean(y_test == Y_pred_val)\n",
    "    results.append(accuracy)\n",
    "\n",
    "plt.figure(figsize=(8,4))\n",
    "pd.Series(results, n_estimator_options).plot(color=\"red\",linestyle='dashed', marker='o', markerfacecolor='blue')\n",
    "max_n_estimator = n_estimator_options[results.index(max(results))]\n",
    "print(\"Max: \",max_n_estimator)"
   ]
  },
  {
   "cell_type": "code",
   "execution_count": 33,
   "metadata": {},
   "outputs": [
    {
     "name": "stdout",
     "output_type": "stream",
     "text": [
      "Max:  auto\n"
     ]
    },
    {
     "data": {
      "image/png": "[encoded data removed]",
      "text/plain": [
       "<Figure size 576x288 with 1 Axes>"
      ]
     },
     "metadata": {
      "needs_background": "light"
     },
     "output_type": "display_data"
    }
   ],
   "source": [
    "results = []\n",
    "max_features_options = ['auto',None,'sqrt',0.95,0.75,0.5,0.25,0.10]\n",
    "for trees in max_features_options:\n",
    "    model = RandomForestClassifier(n_estimators = max_n_estimator, oob_score=True, n_jobs=-1, random_state=101, max_features = trees)\n",
    "    model.fit(x_train[feature_list[max_score]], y_train)\n",
    "    Y_pred_val = model.predict(x_test[feature_list[max_score]])\n",
    "    accuracy = np.mean(y_test == Y_pred_val)\n",
    "    results.append(accuracy)\n",
    "\n",
    "plt.figure(figsize=(8,4))\n",
    "pd.Series(results, max_features_options).plot(kind=\"bar\",color=\"green\",ylim=(0.7,1))\n",
    "max_max_features = max_features_options[results.index(max(results))]\n",
    "print(\"Max: \",max_max_features)"
   ]
  },
  {
   "cell_type": "code",
   "execution_count": 34,
   "metadata": {},
   "outputs": [
    {
     "name": "stdout",
     "output_type": "stream",
     "text": [
      "Max:  10\n"
     ]
    },
    {
     "data": {
      "image/png": "[encoded data removed]",
      "text/plain": [
       "<Figure size 576x288 with 1 Axes>"
      ]
     },
     "metadata": {
      "needs_background": "light"
     },
     "output_type": "display_data"
    }
   ],
   "source": [
    "results = []\n",
    "min_samples_leaf_options = [5,10,15,20,25,30,35,40,45,50]\n",
    "for trees in min_samples_leaf_options:\n",
    "    model = RandomForestClassifier(n_estimators=max_n_estimator, oob_score=True, n_jobs=-1, random_state=101, max_features = max_max_features, min_samples_leaf = trees)\n",
    "    model.fit(x_train[feature_list[max_score]], y_train)\n",
    "    Y_pred_val = model.predict(x_test[feature_list[max_score]])\n",
    "    accuracy = np.mean(y_test == Y_pred_val)\n",
    "    results.append(accuracy)\n",
    "\n",
    "plt.figure(figsize=(8,4))\n",
    "pd.Series(results, min_samples_leaf_options).plot(color=\"blue\",linestyle='dashed', marker='o', markerfacecolor='yellow')\n",
    "max_min_samples_leaf = min_samples_leaf_options[results.index(max(results))]\n",
    "print(\"Max: \",max_min_samples_leaf)"
   ]
  },
  {
   "cell_type": "code",
   "execution_count": 35,
   "metadata": {},
   "outputs": [
    {
     "data": {
      "text/plain": [
       "RandomForestClassifier(min_samples_leaf=10, n_estimators=45, n_jobs=-1,\n",
       "                       oob_score=True, random_state=101)"
      ]
     },
     "execution_count": 35,
     "metadata": {},
     "output_type": "execute_result"
    }
   ],
   "source": [
    "# Performing Random Forest Classifier Classifier\n",
    "model_rf = RandomForestClassifier(n_estimators=max_n_estimator, oob_score=True, n_jobs=-1, random_state=101, max_features = max_max_features, min_samples_leaf = max_min_samples_leaf)\n",
    "# n_estimators=70, oob_score=True, n_jobs=-1, random_state=101, max_features = None, min_samples_leaf = 30\n",
    "model_rf.fit(x_train[feature_list[max_score]], y_train)"
   ]
  },
  {
   "cell_type": "code",
   "execution_count": 36,
   "metadata": {
    "colab": {
     "base_uri": "https://localhost:8080/"
    },
    "id": "ggijpyV5IckF",
    "outputId": "06055da1-cd48-442e-b8ec-215b093f4db4"
   },
   "outputs": [
    {
     "name": "stdout",
     "output_type": "stream",
     "text": [
      "              precision    recall  f1-score   support\n",
      "\n",
      "           0       0.91      0.39      0.55        54\n",
      "           1       0.75      0.98      0.85       100\n",
      "\n",
      "    accuracy                           0.77       154\n",
      "   macro avg       0.83      0.68      0.70       154\n",
      "weighted avg       0.81      0.77      0.74       154\n",
      "\n"
     ]
    }
   ],
   "source": [
    "# Testing on Val Set\n",
    "Y_pred_val = model_rf.predict(x_test[feature_list[max_score]])\n",
    "print(classification_report(y_test,Y_pred_val))"
   ]
  },
  {
   "cell_type": "code",
   "execution_count": 37,
   "metadata": {},
   "outputs": [
    {
     "name": "stdout",
     "output_type": "stream",
     "text": [
      "Model Score is 77.27272727272727\n",
      "\n",
      "Confusion Matrix: \n",
      " [[21 33]\n",
      " [ 2 98]]\n"
     ]
    }
   ],
   "source": [
    "print(\"Model Score is\", model_rf.score(x_test[feature_list[max_score]], y_test)*100)\n",
    "print(\"\\nConfusion Matrix: \\n\",confusion_matrix(y_test,Y_pred_val))"
   ]
  },
  {
   "cell_type": "markdown",
   "metadata": {
    "id": "wOpgEH69x4Pc"
   },
   "source": [
    "#### **2. Decision Tree Classifier**"
   ]
  },
  {
   "cell_type": "code",
   "execution_count": 38,
   "metadata": {},
   "outputs": [
    {
     "name": "stdout",
     "output_type": "stream",
     "text": [
      "Max:  4\n"
     ]
    },
    {
     "data": {
      "image/png": "[encoded data removed]",
      "text/plain": [
       "<Figure size 576x288 with 1 Axes>"
      ]
     },
     "metadata": {
      "needs_background": "light"
     },
     "output_type": "display_data"
    }
   ],
   "source": [
    "results = []\n",
    "max_depth_options = [2,4,6,8,10,12,14,16,18,20]\n",
    "for trees in max_depth_options:\n",
    "    model = DecisionTreeClassifier(max_depth=trees, random_state=101)\n",
    "    model.fit(x_train[feature_list[max_score]], y_train)\n",
    "    Y_pred_val = model.predict(x_test[feature_list[max_score]])\n",
    "    accuracy = np.mean(y_test == Y_pred_val)\n",
    "    results.append(accuracy)\n",
    "\n",
    "plt.figure(figsize=(8,4))\n",
    "pd.Series(results, max_depth_options).plot(color=\"red\",linestyle='dashed', marker='o', markerfacecolor='blue')\n",
    "max_max_depth = max_depth_options[results.index(max(results))]\n",
    "print(\"Max: \",max_max_depth)"
   ]
  },
  {
   "cell_type": "code",
   "execution_count": 39,
   "metadata": {},
   "outputs": [
    {
     "name": "stdout",
     "output_type": "stream",
     "text": [
      "Max:  0.5\n"
     ]
    },
    {
     "data": {
      "image/png": "[encoded data removed]",
      "text/plain": [
       "<Figure size 576x288 with 1 Axes>"
      ]
     },
     "metadata": {
      "needs_background": "light"
     },
     "output_type": "display_data"
    }
   ],
   "source": [
    "results = []\n",
    "max_features_options = ['auto',None,'sqrt',0.95,0.75,0.5,0.25,0.10]\n",
    "for trees in max_features_options:\n",
    "    model = DecisionTreeClassifier(max_depth=max_max_depth, random_state=101, max_features = trees)\n",
    "    model.fit(x_train[feature_list[max_score]], y_train)\n",
    "    Y_pred_val = model.predict(x_test[feature_list[max_score]])\n",
    "    accuracy = np.mean(y_test == Y_pred_val)\n",
    "    results.append(accuracy)\n",
    "\n",
    "plt.figure(figsize=(8,4))\n",
    "pd.Series(results, max_features_options).plot(kind=\"bar\",color=\"green\",ylim=(0.7,1))\n",
    "max_max_features = max_features_options[results.index(max(results))]\n",
    "print(\"Max: \",max_max_features)"
   ]
  },
  {
   "cell_type": "code",
   "execution_count": 40,
   "metadata": {},
   "outputs": [
    {
     "name": "stdout",
     "output_type": "stream",
     "text": [
      "Max:  10\n"
     ]
    },
    {
     "data": {
      "image/png": "[encoded data removed]",
      "text/plain": [
       "<Figure size 576x288 with 1 Axes>"
      ]
     },
     "metadata": {
      "needs_background": "light"
     },
     "output_type": "display_data"
    }
   ],
   "source": [
    "results = []\n",
    "min_samples_leaf_options = [5,10,15,20,25,30,35,40,45,50]\n",
    "for trees in min_samples_leaf_options:\n",
    "    model = DecisionTreeClassifier(max_depth=max_max_depth, random_state=101, max_features = max_max_features, min_samples_leaf = trees)\n",
    "    model.fit(x_train[feature_list[max_score]], y_train)\n",
    "    Y_pred_val = model.predict(x_test[feature_list[max_score]])\n",
    "    accuracy = np.mean(y_test == Y_pred_val)\n",
    "    results.append(accuracy)\n",
    "\n",
    "plt.figure(figsize=(8,4))\n",
    "pd.Series(results, min_samples_leaf_options).plot(color=\"blue\",linestyle='dashed', marker='o', markerfacecolor='yellow')\n",
    "max_min_samples_leaf = min_samples_leaf_options[results.index(max(results))]\n",
    "print(\"Max: \",max_min_samples_leaf)"
   ]
  },
  {
   "cell_type": "code",
   "execution_count": 41,
   "metadata": {},
   "outputs": [
    {
     "data": {
      "text/plain": [
       "DecisionTreeClassifier(max_depth=4, max_features=0.5, min_samples_leaf=10,\n",
       "                       random_state=101)"
      ]
     },
     "execution_count": 41,
     "metadata": {},
     "output_type": "execute_result"
    }
   ],
   "source": [
    "model_dtree = DecisionTreeClassifier(max_depth=max_max_depth, random_state=101, max_features = max_max_features, min_samples_leaf = max_min_samples_leaf)\n",
    "model_dtree.fit(x_train[feature_list[max_score]], y_train)"
   ]
  },
  {
   "cell_type": "code",
   "execution_count": 42,
   "metadata": {
    "colab": {
     "base_uri": "https://localhost:8080/"
    },
    "id": "VkvAD0nRIfPK",
    "outputId": "6d21ead1-6153-41a4-fa23-e365b56e7145"
   },
   "outputs": [
    {
     "name": "stdout",
     "output_type": "stream",
     "text": [
      "              precision    recall  f1-score   support\n",
      "\n",
      "           0       0.83      0.44      0.58        54\n",
      "           1       0.76      0.95      0.84       100\n",
      "\n",
      "    accuracy                           0.77       154\n",
      "   macro avg       0.79      0.70      0.71       154\n",
      "weighted avg       0.78      0.77      0.75       154\n",
      "\n"
     ]
    }
   ],
   "source": [
    "# Testing on Val Set\n",
    "Y_pred_val = model_dtree.predict(x_test[feature_list[max_score]])\n",
    "print(classification_report(y_test,Y_pred_val))"
   ]
  },
  {
   "cell_type": "code",
   "execution_count": 43,
   "metadata": {},
   "outputs": [
    {
     "name": "stdout",
     "output_type": "stream",
     "text": [
      "Model Score is 77.27272727272727\n",
      "\n",
      "Confusion Matrix: \n",
      " [[24 30]\n",
      " [ 5 95]]\n"
     ]
    }
   ],
   "source": [
    "print(\"Model Score is\", model_dtree.score(x_test[feature_list[max_score]], y_test)*100)\n",
    "print(\"\\nConfusion Matrix: \\n\",confusion_matrix(y_test,Y_pred_val))"
   ]
  },
  {
   "cell_type": "markdown",
   "metadata": {
    "id": "kFhH2_2uyF7p"
   },
   "source": [
    "#### **3. Logistic Regression**"
   ]
  },
  {
   "cell_type": "code",
   "execution_count": 44,
   "metadata": {
    "colab": {
     "base_uri": "https://localhost:8080/"
    },
    "id": "qDLDtSYoIgaL",
    "outputId": "b039bcc3-b61d-45c2-8ab1-f7e029a89e2e"
   },
   "outputs": [
    {
     "name": "stdout",
     "output_type": "stream",
     "text": [
      "Accuracy is 77.92207792207793\n"
     ]
    }
   ],
   "source": [
    "model3 = LogisticRegression()\n",
    "\n",
    "model3.fit(x_train[feature_list[max_score]], y_train)\n",
    "print(\"Accuracy is\", model3.score(x_test[feature_list[max_score]], y_test)*100)"
   ]
  },
  {
   "cell_type": "markdown",
   "metadata": {
    "id": "aulvHNwvy0Cf"
   },
   "source": [
    "#### **Confusion Matrics**"
   ]
  },
  {
   "cell_type": "code",
   "execution_count": 45,
   "metadata": {
    "colab": {
     "base_uri": "https://localhost:8080/"
    },
    "id": "tq2zRkugIjBi",
    "outputId": "06c500f3-6a1e-4e7b-a344-2ccb9f25e05a"
   },
   "outputs": [
    {
     "data": {
      "text/plain": [
       "array([[22, 32],\n",
       "       [ 2, 98]], dtype=int64)"
      ]
     },
     "execution_count": 45,
     "metadata": {},
     "output_type": "execute_result"
    }
   ],
   "source": [
    "y_pred = model3.predict(x_test[feature_list[max_score]])\n",
    "cm = confusion_matrix(y_test, y_pred)\n",
    "cm"
   ]
  },
  {
   "cell_type": "code",
   "execution_count": 46,
   "metadata": {
    "colab": {
     "base_uri": "https://localhost:8080/",
     "height": 282
    },
    "id": "3scgB4maVzWF",
    "outputId": "39a38f6d-c40d-42e7-c9e1-aa8453a32b48"
   },
   "outputs": [
    {
     "data": {
      "text/plain": [
       "<AxesSubplot:>"
      ]
     },
     "execution_count": 46,
     "metadata": {},
     "output_type": "execute_result"
    },
    {
     "data": {
      "image/png": "[encoded data removed]",
      "text/plain": [
       "<Figure size 432x288 with 2 Axes>"
      ]
     },
     "metadata": {
      "needs_background": "light"
     },
     "output_type": "display_data"
    }
   ],
   "source": [
    "sns.heatmap(cm,annot = True)"
   ]
  },
  {
   "cell_type": "markdown",
   "metadata": {
    "id": "nBYCYcD0zGGy"
   },
   "source": [
    "### <span style='background :yellow' >8. Saving the Model</span> "
   ]
  },
  {
   "cell_type": "code",
   "execution_count": 47,
   "metadata": {
    "id": "_R-oa5uoIlry"
   },
   "outputs": [],
   "source": [
    "# Saving the model\n",
    "with open(\"model.bin\", 'wb') as f_out:\n",
    "    # model in this below parameter means, model variable from random forest classifier\n",
    "    pickle.dump(model3, f_out)\n",
    "    f_out.close()"
   ]
  },
  {
   "cell_type": "code",
   "execution_count": 48,
   "metadata": {},
   "outputs": [],
   "source": [
    "# Loading the model from saved file\n",
    "with open(\"model.bin\", 'rb') as f_in:\n",
    "    # model in this below parameter means, model variable from random forest classifier\n",
    "    model = pickle.load(f_in)\n",
    "    f_out.close()"
   ]
  }
 ],
 "metadata": {
  "colab": {
   "collapsed_sections": [
    "7XInObjX3Vl9",
    "9T7jKJuP6GQa",
    "6dg2Nn-v9OyK",
    "3KXQz4Cv6RZp"
   ],
   "name": "Loan Prediction.ipynb",
   "provenance": [],
   "toc_visible": true
  },
  "kernelspec": {
   "display_name": "Python 3",
   "language": "python",
   "name": "python3"
  },
  "language_info": {
   "codemirror_mode": {
    "name": "ipython",
    "version": 3
   },
   "file_extension": ".py",
   "mimetype": "text/x-python",
   "name": "python",
   "nbconvert_exporter": "python",
   "pygments_lexer": "ipython3",
   "version": "3.8.5"
  }
 },
 "nbformat": 4,
 "nbformat_minor": 1
}
